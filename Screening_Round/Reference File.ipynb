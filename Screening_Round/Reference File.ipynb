{
 "cells": [
  {
   "cell_type": "markdown",
   "metadata": {},
   "source": [
    "###### Problem Statement I :-\n",
    "You need to build an object detection model(which also tells about the trait of the object like colour or branding) using any transfer learning method, accuracy should be optimal(greater than 60 - 70%).\n",
    "\n",
    "###### Problem Statement II :-\n",
    "After detecting the object, locate that object on various e-commerce platforms and tell the price.\n",
    "\n",
    "Problem statement I is compulsory to enter into next round.\n",
    "Problem Statement II is for bonus points.\n",
    "\n",
    "_Solution Submission should be done in the form of a zip file containing predictions for the images in test data folder and the python code._\n"
   ]
  },
  {
   "cell_type": "markdown",
   "metadata": {},
   "source": [
    "(DEMO)Task to achive for Problem 1 :-\n",
    "\n",
    "*You need to analyse the brand name of the object and every minute detail*\n",
    "\n",
    "![alt text](save_labels.png \"Title\")\n",
    "\n",
    "\n",
    "\n",
    "![alt text](txtandimage.jpeg \"Title\")\n"
   ]
  },
  {
   "cell_type": "markdown",
   "metadata": {},
   "source": [
    "Test data is provided at - https://drive.google.com/drive/folders/15IDFxklV5EGAmmrVghIEZPrgBbMVuHvV?usp=sharing\n",
    "\n",
    "Mail the Notebook and Prediction labels of the test data in one folder.\n",
    "\n",
    "Also tell the approach followed by you in the same notebook."
   ]
  }
 ],
 "metadata": {
  "kernelspec": {
   "display_name": "Python 3",
   "language": "python",
   "name": "python3"
  },
  "language_info": {
   "codemirror_mode": {
    "name": "ipython",
    "version": 3
   },
   "file_extension": ".py",
   "mimetype": "text/x-python",
   "name": "python",
   "nbconvert_exporter": "python",
   "pygments_lexer": "ipython3",
   "version": "3.6.3"
  }
 },
 "nbformat": 4,
 "nbformat_minor": 2
}
